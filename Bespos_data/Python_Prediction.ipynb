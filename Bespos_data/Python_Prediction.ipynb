{
 "cells": [
  {
   "cell_type": "markdown",
   "id": "d6912e53-19d9-4534-8de9-770c1bd2a334",
   "metadata": {},
   "source": [
    "## Prediction"
   ]
  },
  {
   "cell_type": "code",
   "execution_count": 1,
   "id": "fc0ad652-ee59-4560-ae30-10c3bb58b070",
   "metadata": {},
   "outputs": [],
   "source": [
    "# Importing necessary Libraries\n",
    "import pandas as pd\n",
    "import numpy as np\n",
    "import matplotlib.pyplot as plt\n",
    "from datetime import datetime, timedelta\n",
    "import seaborn as sns"
   ]
  },
  {
   "cell_type": "code",
   "execution_count": 13,
   "id": "7eec3479-4bf1-4839-80e7-c020ffa1d73a",
   "metadata": {
    "scrolled": true
   },
   "outputs": [],
   "source": [
    "# Getting the data\n",
    "product_data= pd.read_csv('Dataset/product_data.csv')\n",
    "product_batch_data= pd.read_csv('Dataset/product_batch_data.csv')\n",
    "transaction_data= pd.read_csv('Dataset/transaction_data.csv')\n",
    "transaction_product_data_1a=pd.read_csv('Dataset/transaction_product_data_1a.csv')"
   ]
  },
  {
   "cell_type": "code",
   "execution_count": 37,
   "id": "5642967a-e093-46a6-89e2-72d5278dbb06",
   "metadata": {},
   "outputs": [],
   "source": [
    "transaction_product_data_1a=pd.read_csv('transaction_product_data_1a.csv')"
   ]
  },
  {
   "cell_type": "code",
   "execution_count": 43,
   "id": "f0ddbb0f-7fa6-4e19-8802-9f448fd2cfb9",
   "metadata": {},
   "outputs": [],
   "source": [
    "transaction_data.rename(columns={'id': 'transaction_id'}, inplace=True)\n",
    "# prompt: change column name id to transaction_id in transaction_data table\n",
    "product_data.rename(columns={'id': 'product_id'}, inplace=True)"
   ]
  },
  {
   "cell_type": "code",
   "execution_count": 47,
   "id": "1216c143-b95a-4663-9671-00543610460a",
   "metadata": {},
   "outputs": [],
   "source": [
    "# Predict the qty of product with id=29 from store 2 for the month june 2024\n",
    "\n",
    "from sklearn.linear_model import LinearRegression\n",
    "def predict_qty_of_product(transaction_product_data_1a,product_data,store_id,product_id,date):\n",
    "    # Merge the dataframes\n",
    "    merged_data = pd.merge(transaction_product_data_1a, product_data, on='product_id', how='left')\n",
    "    # merged_data = pd.merge(merged_data, store_data, on='store_outlet_id', how='left')\n",
    "    \n",
    "    # Filter the data for store 2 and product 29\n",
    "    filtered_data = merged_data[(merged_data['Store_outlet_id'] == store_id) & (merged_data['product_id'] == product_id)]\n",
    "    \n",
    "    # Create a time series of the quantity sold\n",
    "    time_series = filtered_data.groupby('transaction_date')['qty'].sum()\n",
    "    \n",
    "    # Convert the date index to numerical representation (days since the first date)\n",
    "    time_series.index = (pd.to_datetime(time_series.index) - pd.to_datetime(time_series.index.min())).days\n",
    "    \n",
    "    # Find the index corresponding to '2023-12-31'\n",
    "    split_index = (pd.to_datetime('2023-12-31') - pd.to_datetime(time_series.index.min())).days\n",
    "    \n",
    "    # Split the time series into training and test sets using the numerical index\n",
    "    train_data = time_series[:split_index] # Use numerical index to split\n",
    "    test_data = time_series[split_index:]   # Use numerical index to split\n",
    "    \n",
    "    # Train a linear regression model\n",
    "    model = LinearRegression()\n",
    "    # Reshape the training data for the model and use the numerical date representation\n",
    "    model.fit(train_data.index.to_numpy().reshape(-1, 1), train_data.values)\n",
    "    \n",
    "    # Predict the quantity for June 2024\n",
    "    # Calculate days since the first date for June 2024\n",
    "    june_2024_days = (pd.to_datetime(date) - pd.to_datetime(time_series.index.min())).days\n",
    "    predicted_qty = model.predict([[june_2024_days]])[0]\n",
    "    \n",
    "    # Print the predicted quantity\n",
    "    print(f\"Predicted quantity for product 29 in store 2 for June 2024: {predicted_qty:.2f}\")"
   ]
  },
  {
   "cell_type": "code",
   "execution_count": 49,
   "id": "38a19142-73ea-44c4-887c-2e22ffc3d6a7",
   "metadata": {},
   "outputs": [
    {
     "name": "stdout",
     "output_type": "stream",
     "text": [
      "Predicted quantity for product 29 in store 2 for June 2024: 1293.01\n"
     ]
    }
   ],
   "source": [
    "predict_qty_of_product(transaction_product_data_1a,product_data,2,269,'2024-06-01')"
   ]
  },
  {
   "cell_type": "code",
   "execution_count": 51,
   "id": "6054a0ce-d227-425c-9f1f-2007fee005ad",
   "metadata": {},
   "outputs": [],
   "source": [
    "# Predict the average number of customers vistiing in store 2 in june 2024\n",
    "\n",
    "# Import necessary libraries\n",
    "import pandas as pd\n",
    "from sklearn.linear_model import LinearRegression\n",
    "\n",
    "def predict_customer_visit(transaction_data,store_id,date):\n",
    "    # Convert 'transaction_date' to datetime\n",
    "    transaction_data['transaction_date'] = pd.to_datetime(transaction_data['transaction_date'])\n",
    "    \n",
    "    # Filter data for store 2\n",
    "    transaction_data_store2 = transaction_data[transaction_data['store_outlet_id'] == store_id]\n",
    "    \n",
    "    # Group data by month and count transactions\n",
    "    monthly_traffic_store2 = transaction_data_store2.groupby(pd.Grouper(key='transaction_date', freq='M')).size()\n",
    "    \n",
    "    # Calculate average customer traffic per month\n",
    "    average_traffic_by_month_store2 = monthly_traffic_store2.groupby(level=0).mean()\n",
    "    \n",
    "    # Create a time series of the average customer traffic\n",
    "    time_series_store2 = average_traffic_by_month_store2\n",
    "    \n",
    "    # Convert the date index to numerical representation (days since the first date)\n",
    "    time_series_store2.index = (pd.to_datetime(time_series_store2.index) - pd.to_datetime(time_series_store2.index.min())).days\n",
    "    \n",
    "    # Find the index corresponding to '2024-06-01'\n",
    "    split_index_store2 = (pd.to_datetime(date) - pd.to_datetime(time_series_store2.index.min())).days\n",
    "    \n",
    "    # Split the time series into training and test sets using the numerical index\n",
    "    train_data_store2 = time_series_store2[:split_index_store2]\n",
    "    test_data_store2 = time_series_store2[split_index_store2:]\n",
    "    \n",
    "    # Train a linear regression model\n",
    "    model_store2 = LinearRegression()\n",
    "    # Reshape the training data for the model and use the numerical date representation\n",
    "    model_store2.fit(train_data_store2.index.to_numpy().reshape(-1, 1), train_data_store2.values)\n",
    "    \n",
    "    # Predict the average number of customers visiting in June 2024\n",
    "    # Calculate days since the first date for June 2024\n",
    "    june_2024_days_store2 = (pd.to_datetime(date) - pd.to_datetime(time_series_store2.index.min())).days\n",
    "    predicted_traffic_store2 = model_store2.predict([[june_2024_days_store2]])[0]\n",
    "    \n",
    "    # Print the predicted average number of customers\n",
    "    print(f\"Predicted average number of customers visiting store 2 in June 2024: {predicted_traffic_store2:.2f}\")\n"
   ]
  },
  {
   "cell_type": "code",
   "execution_count": 53,
   "id": "597adb79-a572-46f6-a581-4b3ce33488e6",
   "metadata": {},
   "outputs": [
    {
     "name": "stdout",
     "output_type": "stream",
     "text": [
      "Predicted average number of customers visiting store 2 in June 2024: 972.83\n"
     ]
    }
   ],
   "source": [
    "predict_customer_visit(transaction_data,4,'2024-06-01')"
   ]
  },
  {
   "cell_type": "code",
   "execution_count": 59,
   "id": "464e4e8e-82ec-4369-bed6-bed6b7748ab6",
   "metadata": {},
   "outputs": [],
   "source": [
    "transaction_product_data_1a['profit'] = (transaction_product_data_1a['sales_price'] - transaction_product_data_1a['rate']) * transaction_product_data_1a['qty']"
   ]
  },
  {
   "cell_type": "code",
   "execution_count": 61,
   "id": "75781034-47f8-4b0c-855c-3342b62c3eae",
   "metadata": {},
   "outputs": [],
   "source": [
    "# Find the products who's qty need to be increased to increase the profit in store 2\n",
    "\n",
    "def predict_the_product_whos_qty_to_increased(transaction_product_data_1a,store_id):\n",
    "    # Calculate the profit for each product in store 2\n",
    "    store_2_profit = transaction_product_data_1a[transaction_product_data_1a['Store_outlet_id'] == 2].groupby('product_id')['profit'].sum()\n",
    "    \n",
    "    # Sort the products by profit in descending order\n",
    "    sorted_products = store_2_profit.sort_values(ascending=False)\n",
    "    \n",
    "    # Select the top 10 products with the highest profit\n",
    "    top_10_products = sorted_products.head(10)\n",
    "    \n",
    "    # Print the product IDs of the top 10 products\n",
    "    print(\"Top 10 products with the highest profit in store 2:\")\n",
    "    print(top_10_products.index.to_list())\n",
    "    \n",
    "    # Calculate the average quantity sold for each product in store 2\n",
    "    store_2_avg_qty = transaction_product_data_1a[transaction_product_data_1a['Store_outlet_id'] == 2].groupby('product_id')['qty'].mean()\n",
    "    \n",
    "    # Merge the average quantity with the top 10 products by profit\n",
    "    merged_data = pd.merge(top_10_products, store_2_avg_qty, left_index=True, right_index=True)\n",
    "    \n",
    "    # Sort the merged data by average quantity in ascending order\n",
    "    merged_data = merged_data.sort_values(by='qty', ascending=True)\n",
    "    \n",
    "    # Select the bottom 5 products with the lowest average quantity\n",
    "    bottom_5_products = merged_data.head(5)\n",
    "    \n",
    "    # Print the product IDs of the bottom 5 products\n",
    "    print(\"\\nBottom 5 products with the lowest average quantity in store 2:\")\n",
    "    \n",
    "    for id in bottom_5_products.index.to_list():\n",
    "      print(\"Id: \"+str(id)+\" Name: \"+list(product_data[product_data['product_id']==id]['name'])[0]+\" Qty: \"+str(bottom_5_products['qty'][id]))\n",
    "    \n",
    "    # These are the products whose quantity should be increased to increase profit in store 2.\n"
   ]
  },
  {
   "cell_type": "code",
   "execution_count": 63,
   "id": "c4a859d8-e768-4b2a-8a08-594be28a2af3",
   "metadata": {},
   "outputs": [
    {
     "name": "stdout",
     "output_type": "stream",
     "text": [
      "Top 10 products with the highest profit in store 2:\n",
      "[269, 6888, 6914, 6418, 6889, 31, 32, 7107, 137, 19630]\n",
      "\n",
      "Bottom 5 products with the lowest average quantity in store 2:\n",
      "Id: 19630 Name: MAMYPOKO Qty: 3.9523809523809526\n",
      "Id: 6889 Name: CERELAC Qty: 3.9722222222222223\n",
      "Id: 31 Name: ADULT DIAPER MAMI PLUS Qty: 5.363636363636363\n",
      "Id: 269 Name: PAMPERS Qty: 6.639344262295082\n",
      "Id: 6888 Name: NANPRO Qty: 6.769230769230769\n"
     ]
    }
   ],
   "source": [
    "predict_the_product_whos_qty_to_increased(transaction_product_data_1a,2)"
   ]
  },
  {
   "cell_type": "code",
   "execution_count": null,
   "id": "7b6d55d1-98f1-4f4d-87d0-6196b6561ed9",
   "metadata": {},
   "outputs": [],
   "source": []
  }
 ],
 "metadata": {
  "kernelspec": {
   "display_name": "Python 3 (ipykernel)",
   "language": "python",
   "name": "python3"
  },
  "language_info": {
   "codemirror_mode": {
    "name": "ipython",
    "version": 3
   },
   "file_extension": ".py",
   "mimetype": "text/x-python",
   "name": "python",
   "nbconvert_exporter": "python",
   "pygments_lexer": "ipython3",
   "version": "3.11.7"
  }
 },
 "nbformat": 4,
 "nbformat_minor": 5
}
